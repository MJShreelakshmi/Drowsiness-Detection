{
 "cells": [
  {
   "cell_type": "code",
   "execution_count": 1,
   "metadata": {},
   "outputs": [],
   "source": [
    "import cv2\n",
    "import numpy as np\n",
    "import matplotlib.pyplot as plt\n",
    "import os"
   ]
  },
  {
   "cell_type": "code",
   "execution_count": 2,
   "metadata": {},
   "outputs": [],
   "source": [
    "## provide the path for testing cofing file and tained model form colab\n",
    "net = cv2.dnn.readNetFromDarknet(\"yolov3_custom.cfg\",r\"yolov3_custom_final.weights\")"
   ]
  },
  {
   "cell_type": "code",
   "execution_count": 3,
   "metadata": {},
   "outputs": [],
   "source": [
    "# Change here for custom classes for trained model \n",
    "\n",
    "classes = ['alert', 'drowsy']"
   ]
  },
  {
   "cell_type": "markdown",
   "metadata": {},
   "source": [
    "#### Testing"
   ]
  },
  {
   "cell_type": "code",
   "execution_count": 4,
   "metadata": {},
   "outputs": [
    {
     "name": "stdout",
     "output_type": "stream",
     "text": [
      "[0]\n",
      "[0, 0]\n",
      "[0, 0, 0]\n",
      "[0, 0, 0, 0]\n",
      "[0, 0, 0, 0, 0]\n",
      "[0, 0, 0, 0, 0, 0]\n",
      "[0, 0, 0, 0, 0, 0, 0]\n",
      "[0, 0, 0, 0, 0, 0, 0, 0]\n",
      "[0, 0, 0, 0, 0, 0, 0, 0, 0]\n",
      "[0, 0, 0, 0, 0, 0, 0, 0, 0, 0]\n",
      "[0, 0, 0, 0, 0, 0, 0, 0, 0, 0, 0]\n",
      "[0, 0, 0, 0, 0, 0, 0, 0, 0, 0, 0, 0]\n",
      "[0, 0, 0, 0, 0, 0, 0, 0, 0, 0, 0, 0, 0]\n",
      "[0, 0, 0, 0, 0, 0, 0, 0, 0, 0, 0, 0, 0, 0]\n",
      "[0, 0, 0, 0, 0, 0, 0, 0, 0, 0, 0, 0, 0, 0, 0]\n"
     ]
    }
   ],
   "source": [
    "cap = cv2.VideoCapture(0)\n",
    "toggles = []\n",
    "while 1:\n",
    "    _, img = cap.read()\n",
    "    img = cv2.resize(img,(1280,720))\n",
    "    hight,width,_ = img.shape\n",
    "    blob = cv2.dnn.blobFromImage(img, 1/255,(416,416),(0,0,0),swapRB = True,crop= False)\n",
    "\n",
    "    net.setInput(blob)\n",
    "\n",
    "    output_layers_name = net.getUnconnectedOutLayersNames()\n",
    "\n",
    "    layerOutputs = net.forward(output_layers_name)\n",
    "\n",
    "    boxes =[]\n",
    "    confidences = []\n",
    "    class_ids = []\n",
    "\n",
    "    for output in layerOutputs:\n",
    "        for detection in output:\n",
    "            score = detection[5:]\n",
    "            class_id = np.argmax(score)\n",
    "            confidence = score[class_id]\n",
    "            if confidence > 0.7:\n",
    "                center_x = int(detection[0] * width)\n",
    "                center_y = int(detection[1] * hight)\n",
    "                w = int(detection[2] * width)\n",
    "                h = int(detection[3]* hight)\n",
    "                x = int(center_x - w/2)\n",
    "                y = int(center_y - h/2)\n",
    "                boxes.append([x,y,w,h])\n",
    "                confidences.append((float(confidence)))\n",
    "                class_ids.append(class_id)\n",
    "\n",
    "\n",
    "    indexes = cv2.dnn.NMSBoxes(boxes,confidences,.5,.4)\n",
    "\n",
    "    boxes =[]\n",
    "    confidences = []\n",
    "    class_ids = []\n",
    "\n",
    "    for output in layerOutputs:\n",
    "        for detection in output:\n",
    "            score = detection[5:]\n",
    "            class_id = np.argmax(score)\n",
    "            confidence = score[class_id]\n",
    "            if confidence > 0.5:\n",
    "                center_x = int(detection[0] * width)\n",
    "                center_y = int(detection[1] * hight)\n",
    "                w = int(detection[2] * width)\n",
    "                h = int(detection[3]* hight)\n",
    "\n",
    "                x = int(center_x - w/2)\n",
    "                y = int(center_y - h/2)\n",
    "\n",
    "\n",
    "\n",
    "                boxes.append([x,y,w,h])\n",
    "                confidences.append((float(confidence)))\n",
    "                class_ids.append(class_id)\n",
    "\n",
    "    indexes = cv2.dnn.NMSBoxes(boxes,confidences,.8,.4)\n",
    "    font = cv2.FONT_HERSHEY_PLAIN\n",
    "    colors = np.random.uniform(0,255,size =(len(boxes),3))\n",
    "    if  len(indexes)>0:\n",
    "        for i in indexes.flatten():\n",
    "            x,y,w,h = boxes[i]\n",
    "            label = str(classes[class_ids[i]])\n",
    "            confidence = str(round(confidences[i],2))\n",
    "            color = colors[i]\n",
    "            cv2.rectangle(img,(x,y),(x+w,y+h),color,2)\n",
    "            \n",
    "            if label == 'alert':                    ####\n",
    "                togg = 0\n",
    "            else:\n",
    "                togg = 0\n",
    "            toggles.append(togg)\n",
    "            print(toggles)\n",
    "            if len(toggles)<150:\n",
    "#           toggles.append(togg)\n",
    "                break\n",
    "            else:\n",
    "                toggles = toggles.pop(0)\n",
    "    \n",
    "            print(len(toggles))\n",
    "\n",
    "            perclos = 0\n",
    "            for i in range(len(toggles)):\n",
    "                perclos = perclos + toggles[i]\n",
    "            perclos = perclos/150*100\n",
    "            print(perclos)\n",
    "            if perclos > 20:\n",
    "                label = 'drowsy'\n",
    "            else:\n",
    "                label = 'alert'                      ####\n",
    "    \n",
    "            \n",
    "        cv2.putText(img,label + \" \" + confidence, (x,y+400),font,2,color,2)\n",
    "\n",
    "\n",
    "    cv2.imshow('img',img)\n",
    "    if cv2.waitKey(1) == ord('q'):\n",
    "        break\n",
    "\n",
    "    \n",
    "cap.release()\n",
    "cv2.destroyAllWindows()"
   ]
  },
  {
   "cell_type": "code",
   "execution_count": null,
   "metadata": {},
   "outputs": [],
   "source": []
  }
 ],
 "metadata": {
  "kernelspec": {
   "display_name": "Python 3",
   "language": "python",
   "name": "python3"
  },
  "language_info": {
   "codemirror_mode": {
    "name": "ipython",
    "version": 3
   },
   "file_extension": ".py",
   "mimetype": "text/x-python",
   "name": "python",
   "nbconvert_exporter": "python",
   "pygments_lexer": "ipython3",
   "version": "3.8.3"
  }
 },
 "nbformat": 4,
 "nbformat_minor": 5
}
